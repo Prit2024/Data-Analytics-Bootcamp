{
  "nbformat": 4,
  "nbformat_minor": 0,
  "metadata": {
    "colab": {
      "provenance": [],
      "authorship_tag": "ABX9TyMIMDsyNP9H9sGk4OwFmH0P",
      "include_colab_link": true
    },
    "kernelspec": {
      "name": "python3",
      "display_name": "Python 3"
    },
    "language_info": {
      "name": "python"
    }
  },
  "cells": [
    {
      "cell_type": "markdown",
      "metadata": {
        "id": "view-in-github",
        "colab_type": "text"
      },
      "source": [
        "<a href=\"https://colab.research.google.com/github/Prit2024/Data-Analytics-Bootcamp/blob/main/oops_assign.ipynb\" target=\"_parent\"><img src=\"https://colab.research.google.com/assets/colab-badge.svg\" alt=\"Open In Colab\"/></a>"
      ]
    },
    {
      "cell_type": "markdown",
      "source": [],
      "metadata": {
        "id": "EkLbxCqTix96"
      }
    },
    {
      "cell_type": "code",
      "source": [],
      "metadata": {
        "id": "HTowGxkhfFDP"
      },
      "execution_count": null,
      "outputs": []
    },
    {
      "cell_type": "markdown",
      "source": [],
      "metadata": {
        "id": "q5vPJBn7kEZU"
      }
    },
    {
      "cell_type": "markdown",
      "source": [
        "1. What are the five key concepts of Object-Oriented Programming (OOP)?\n",
        "\n",
        "The five key concepts of Object-Oriented Programming (OOP) are:\n",
        "\n",
        "Encapsulation:\n",
        "\n",
        "Encapsulation is the bundling of data (attributes) and methods (functions) that operate on that data within a single unit, known as a class.\n",
        "\n",
        "Abstraction:\n",
        "\n",
        "Abstraction involves hiding complex implementation details and exposing only the essential features of an object.\n",
        "\n",
        "Inheritance:\n",
        "\n",
        "Inheritance is a mechanism that allows one class (the child or derived class) to inherit attributes and methods from another class (the parent or base class).\n",
        "\n",
        "Polymorphism:\n",
        "\n",
        "Polymorphism allows methods to do different things based on the object it is acting upon. It enables objects of different classes to be treated as objects of a common superclass.\n",
        "\n",
        "Composition:\n",
        "\n",
        "Composition is a design principle where a class is composed of one or more objects from other classes, establishing a \"has-a\" relationship.\n"
      ],
      "metadata": {
        "id": "TrAPxVrNkIGR"
      }
    },
    {
      "cell_type": "markdown",
      "source": [
        "2. Write a Python class for a `Car` with attributes for `make`, `model`, and `year`. Include a method to display\n",
        "the car's information.\n",
        "\n",
        "Ans- Certainly! Below is a Python class for a Car that includes attributes for make, model, and year, along with a method to display the car's information.\n",
        "\n",
        "class Car:\n",
        "    def __init__(self, make, model, year):\n",
        "        \"\"\"Initialize the car's attributes.\"\"\"\n",
        "        self.make = make\n",
        "        self.model = model\n",
        "        self.year = year\n",
        "\n",
        "    def display_info(self):\n",
        "        \"\"\"Display the car's information.\"\"\"\n",
        "        print(f\"Car Information: {self.year} {self.make} {self.model}\")\n",
        "\n",
        "# Example usage:\n",
        "my_car = Car(\"Toyota\", \"Corolla\", 2020)\n",
        "my_car.display_info()"
      ],
      "metadata": {
        "id": "O47YYj9Ckg9y"
      }
    },
    {
      "cell_type": "markdown",
      "source": [
        "3. Explain the difference between instance methods and class methods. Provide an example of each.\n",
        "\n",
        "Definition: Instance methods are the most common type of methods in a class. They operate on instances of the class (objects) and have access to the instance (using self).\n",
        "\n",
        "Key Features:\n",
        "\n",
        "They can access and modify instance attributes.\n",
        "They can call other instance methods.\n",
        "Instance Methods:\n",
        "Operate on an instance of the class.\n",
        "Use self to access instance attributes and methods.\n",
        "Class Methods:\n",
        "Operate on the class itself.\n",
        "Use cls to access class attributes and methods.\n",
        "Defined with the @classmethod decorator."
      ],
      "metadata": {
        "id": "mHQn2A11mJS8"
      }
    },
    {
      "cell_type": "markdown",
      "source": [
        "4. How does Python implement method overloading? Give an example.\n",
        "\n",
        "Python does not support method overloading in the traditional sense as seen in some other programming languages (like Java or C++). Instead, Python allows you to define a method with the same name but does not allow multiple definitions of the same method within the same class. The last defined method will overwrite the previous ones.\n",
        "\n",
        "However, you can achieve similar behavior using default arguments, variable-length arguments, or conditional statements within a single method to handle different input types or numbers of arguments.\n",
        "\n"
      ],
      "metadata": {
        "id": "NwpWF0-um_jx"
      }
    },
    {
      "cell_type": "markdown",
      "source": [
        "5. What are the three types of access modifiers in Python? How are they denoted?\n",
        "Public: Accessible from anywhere; no special prefix.\n",
        "Protected: Accessible within the class and subclasses; denoted by a single underscore (_).\n",
        "Private: Accessible only within the class; denoted by a double underscore (__).\n",
        "\n",
        "\n",
        "\n"
      ],
      "metadata": {
        "id": "cjdkkWt1nZVD"
      }
    },
    {
      "cell_type": "markdown",
      "source": [
        "6. Describe the five types of inheritance in Python. Provide a simple example of multiple inheritance.\n",
        "Single Inheritance: One base class, one derived class.\n",
        "Multiple Inheritance: One derived class inherits from multiple base classes.\n",
        "Multilevel Inheritance: Chain of inheritance from base to derived classes.\n",
        "Hierarchical Inheritance: Multiple derived classes from a single base class.\n",
        "Hybrid Inheritance: A combination of two or more types of inheritance."
      ],
      "metadata": {
        "id": "kltrAjuLn6fQ"
      }
    },
    {
      "cell_type": "markdown",
      "source": [
        "7. What is the Method Resolution Order (MRO) in Python? How can you retrieve it programmatically?\n",
        "In this example:\n",
        "\n",
        "Class D inherits from both B and C.\n",
        "The MRO for D is D, B, C, A, object, indicating that when looking for a method, Python will first check D, then B, followed by C, then A, and finally the base class object.\n",
        "Summary\n",
        "MRO: The order in which Python looks up methods in classes, especially in multiple inheritance scenarios.\n",
        "Retrieve MRO: You can retrieve it using ClassName.mro() or ClassName.__mro__."
      ],
      "metadata": {
        "id": "tzjlksTYoIJe"
      }
    },
    {
      "cell_type": "markdown",
      "source": [
        "8. Create an abstract base class `Shape` with an abstract method `area()`. Then create two subclasses\n",
        "`Circle` and `Rectangle` that implement the `area()` method.\n",
        "Ans- Abstract Base Class (Shape):\n",
        "\n",
        "The Shape class inherits from ABC and contains the abstract method area(), which has no implementation (using pass).\n",
        "Subclass Circle:\n",
        "\n",
        "Inherits from Shape and implements the area() method using the formula for the area of a circle:\n",
        "�\n",
        "�\n",
        "2\n",
        "πr\n",
        "2\n",
        " .\n",
        "Subclass Rectangle:\n",
        "\n",
        "Also inherits from Shape and implements the area() method using the formula for the area of a rectangle: width × height.\n",
        "Example Usage:\n",
        "\n",
        "Instances of Circle and Rectangle are created, and their area() methods are called to calculate and print the areas.\n",
        "Summary."
      ],
      "metadata": {
        "id": "iTpHVN7poSLi"
      }
    },
    {
      "cell_type": "markdown",
      "source": [
        "9. Demonstrate polymorphism by creating a function that can work with different shape objects to calculate\n",
        "and print their areas.\n",
        "\n",
        "Ans- Abstract Base Class (Shape):\n",
        "\n",
        "As before, this class has an abstract method area().\n",
        "Subclass Circle and Rectangle:\n",
        "\n",
        "Both classes implement the area() method.\n",
        "Function print_area:\n",
        "\n",
        "This function takes an object of type Shape and calls its area() method. The actual method executed depends on the specific object passed (either Circle or Rectangle).\n",
        "Example Usage:\n",
        "\n",
        "We create instances of Circle and Rectangle.\n",
        "A list called shapes contains both shape objects.\n",
        "We iterate over this list and call print_area() for each shape, demonstrating polymorphism."
      ],
      "metadata": {
        "id": "79V-DLwGouhe"
      }
    },
    {
      "cell_type": "markdown",
      "source": [
        "10. Implement encapsulation in a `BankAccount` class with private attributes for `balance` and\n",
        "`account_number`. Include methods for deposit, withdrawal, and balance inquiry.\n",
        "\n",
        "Ans-\n",
        "Here’s an implementation of a BankAccount class that demonstrates encapsulation using private attributes for balance and account_number. The class includes methods for depositing money, withdrawing money, and checking the balance.\n",
        "\n",
        "Example Code\n",
        "python\n",
        "Copy code\n",
        "class BankAccount:\n",
        "    def __init__(self, account_number, initial_balance=0):\n",
        "        self.__account_number = account_number  # Private attribute\n",
        "        self.__balance = initial_balance  # Private attribute\n",
        "\n",
        "    def deposit(self, amount):\n",
        "        \"\"\"Deposit money into the account.\"\"\"\n",
        "        if amount > 0:\n",
        "            self.__balance += amount\n",
        "            print(f\"Deposited: ${amount:.2f}. New balance: ${self.__balance:.2f}\")\n",
        "        else:\n",
        "            print(\"Deposit amount must be positive!\")\n",
        "\n",
        "    def withdraw(self, amount):\n",
        "        \"\"\"Withdraw money from the account.\"\"\"\n",
        "        if 0 < amount <= self.__balance:\n",
        "            self.__balance -= amount\n",
        "            print(f\"Withdrew: ${amount:.2f}. New balance: ${self.__balance:.2f}\")\n",
        "        else:\n",
        "            print(\"Insufficient funds or invalid withdrawal amount!\")\n",
        "\n",
        "    def get_balance(self):\n",
        "        \"\"\"Get the current balance.\"\"\"\n",
        "        return self.__balance\n",
        "\n",
        "    def get_account_number(self):\n",
        "        \"\"\"Get the account number.\"\"\"\n",
        "        return self.__account_number"
      ],
      "metadata": {
        "id": "LBV7OD3qpKkZ"
      }
    },
    {
      "cell_type": "markdown",
      "source": [
        "11. Write a class that overrides the `__str__` and `__add__` magic methods. What will these methods allow\n",
        "you to do?\n",
        "Ans-Class Definition (Vector):\n",
        "\n",
        "The Vector class has two attributes: x and y, which represent the coordinates of the vector.\n",
        "__str__ Method:\n",
        "\n",
        "This method returns a string representation of the Vector object. When you print an instance of the class or convert it to a string, this method is called. In the example, print(v1) outputs Vector(2, 3).\n",
        "__add__ Method:\n",
        "\n",
        "This method defines how to add two Vector objects together using the + operator. If the other object being added is also a Vector, it returns a new Vector with the sum of the corresponding coordinates. If not, it returns NotImplemented, which tells Python that the operation is not supported for the given operand types.\n",
        "Example Usage:\n",
        "\n",
        "Two Vector objects are created (v1 and v2). The __str__ method allows for easy printing of the vectors, while the __add__ method allows you to use the + operator to combine them."
      ],
      "metadata": {
        "id": "mDTOpp7upe4V"
      }
    },
    {
      "cell_type": "markdown",
      "source": [
        "12. Create a decorator that measures and prints the execution time of a function.\n",
        "Ans- Decorator Definition (timing_decorator):\n",
        "\n",
        "The timing_decorator function takes a function func as an argument.\n",
        "Inside it, a nested wrapper function is defined, which will wrap the original function.\n",
        "Measuring Execution Time:\n",
        "\n",
        "The start_time is recorded before the function call using time.time().\n",
        "After the function call, end_time is recorded.\n",
        "The execution time is calculated as the difference between end_time and start_time.\n",
        "Printing the Execution Time:\n",
        "\n",
        "The decorator prints the execution time formatted to six decimal places.\n",
        "Returning the Result:\n",
        "\n",
        "The original function's result is returned so that it can be used as expected.\n",
        "Example Function:\n",
        "\n",
        "The example_function computes the sum of numbers from 1 to n, and is decorated with @timing_decorator."
      ],
      "metadata": {
        "id": "alBBg8RRptDx"
      }
    },
    {
      "cell_type": "markdown",
      "source": [
        "13. Explain the concept of the Diamond Problem in multiple inheritance. How does Python resolve it?\n",
        "Ans- Class Definitions:\n",
        "\n",
        "A has a method greet().\n",
        "B and C both override the greet() method from A.\n",
        "D inherits from both B and C.\n",
        "MRO Output:\n",
        "\n",
        "The output of D.mro() shows the order in which Python will look for methods. In this case, it will first look in D, then in B, then in C, and finally in A.\n",
        "Method Call:\n",
        "\n",
        "When d.greet() is called, Python first checks D, then finds it in B, and uses that implementation, thus avoiding ambiguity."
      ],
      "metadata": {
        "id": "Bs26fVpIp8P3"
      }
    },
    {
      "cell_type": "markdown",
      "source": [
        "14. Write a class method that keeps track of the number of instances created from a class.\n",
        "\n",
        "Ans- Class Variable (instance_count):\n",
        "\n",
        "This variable is shared among all instances of the InstanceCounter class and is used to keep track of the number of instances created.\n",
        "Constructor (__init__):\n",
        "\n",
        "Each time an instance is created, the constructor increments the instance_count by 1.\n",
        "Class Method (get_instance_count):\n",
        "\n",
        "This method allows access to the instance_count variable. It uses cls to refer to the class itself, which is a common practice in class methods.\n",
        "Example Usage:\n",
        "\n",
        "Three instances of InstanceCounter are created.\n",
        "The get_instance_count() method is called to retrieve and print the total number of instances created."
      ],
      "metadata": {
        "id": "2ZX3sWycqKLt"
      }
    },
    {
      "cell_type": "markdown",
      "source": [
        "15. Implement a static method in a class that checks if a given year is a leap year.\n",
        "\n",
        "Ans-Static Method (is_leap_year):\n",
        "\n",
        "The @staticmethod decorator indicates that this method does not require access to instance (self) or class (cls) variables.\n",
        "The method takes a year as an argument and applies the leap year rules to determine if it’s a leap year.\n",
        "Leap Year Logic:\n",
        "\n",
        "The method checks if the year is divisible by 4 and not divisible by 100, or if it is divisible by 400.\n",
        "It returns True if it’s a leap year and False otherwise.\n",
        "Example Usage:\n",
        "\n",
        "The method is called with different years, and the results are printed to indicate whether each year is a leap year."
      ],
      "metadata": {
        "id": "8JBRWv3nqUcZ"
      }
    }
  ]
}